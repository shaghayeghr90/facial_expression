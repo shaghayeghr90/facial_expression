{
 "cells": [
  {
   "cell_type": "code",
   "execution_count": 1,
   "metadata": {},
   "outputs": [
    {
     "name": "stderr",
     "output_type": "stream",
     "text": [
      "Using TensorFlow backend.\n"
     ]
    }
   ],
   "source": [
    "from matplotlib import pyplot as plt\n",
    "%matplotlib inline\n",
    "import os\n",
    "import glob\n",
    "import cv2\n",
    "import scipy\n",
    "from keras.layers import Dense, Dropout, Activation, Flatten,GaussianDropout,AlphaDropout\n",
    "from keras.layers import Conv2D, MaxPooling2D,BatchNormalization\n",
    "from keras.models import Sequential\n",
    "import numpy as np\n",
    "import keras\n",
    "from keras.utils import np_utils\n",
    "from keras.regularizers import l2\n",
    "# import cPickle\n",
    "import numpy\n",
    "import csv\n",
    "import scipy.misc\n",
    "import scipy\n",
    "from scipy import ndimage\n",
    "import numpy as np\n",
    "from keras.preprocessing.image import ImageDataGenerator\n",
    "import h5py"
   ]
  },
  {
   "cell_type": "code",
   "execution_count": 2,
   "metadata": {},
   "outputs": [],
   "source": [
    "def load_data_for_vgg16():\n",
    "\n",
    "    train_x = []\n",
    "    train_y = []\n",
    "    val_x =[]\n",
    "    val_y =[]\n",
    "\n",
    "    exclude=[]\n",
    "    for line in open('../dlib/python_examples/fer2013_excluded.txt'):\n",
    "        row=line.split('.')\n",
    "        exclude.append(int(row[0]))\n",
    "    count_labels=[0]*7\n",
    "    count=0\n",
    "    for line in open('fer2013.csv'):   \n",
    "        row = line.split(',')\n",
    "        if count not in exclude:\n",
    "            try:\n",
    "                train_y.append(int(row[0]))\n",
    "                image=[int(p) for p in row[1].split()]\n",
    "                image=np.reshape(image,(48,48))\n",
    "                temp=np.expand_dims(image,2)\n",
    "                image=np.concatenate((temp,temp),axis=2)\n",
    "                image=np.concatenate((image,temp),axis=2)\n",
    "                train_x.append(image)\n",
    "                if int(row[0])==0:\n",
    "                    count_labels[0]=count_labels[0]+1\n",
    "                elif int(row[0])==1:\n",
    "                    count_labels[1]=count_labels[1]+1\n",
    "                elif int(row[0])==2:\n",
    "                    count_labels[2]=count_labels[2]+1\n",
    "                elif int(row[0])==3:\n",
    "                    count_labels[3]=count_labels[3]+1\n",
    "                elif int(row[0])==4:\n",
    "                    count_labels[4]=count_labels[4]+1\n",
    "                elif int(row[0])==5:\n",
    "                    count_labels[5]=count_labels[5]+1\n",
    "                elif int(row[0])==6:\n",
    "                    count_labels[6]=count_labels[6]+1\n",
    "            except ValueError:\n",
    "                pass      # or whatever\n",
    "        count=count+1\n",
    "        \n",
    "    train_x, train_y = np.array(train_x)/255.0, np.array(train_y)\n",
    "    print(train_x.shape)\n",
    "    print(train_y.shape)\n",
    "    print(count_labels)\n",
    "    weights={}\n",
    "    for index,c in enumerate(count_labels):\n",
    "        weights[index]=(np.sum(np.array(count_labels))-c)/np.sum(np.array(count_labels))\n",
    "    print(weights)\n",
    "    \n",
    "    val_x, val_y = train_x[-1000:], train_y[-1000:]\n",
    "    train_x, train_y = train_x[:-1000], train_y[:-1000]\n",
    "    return train_x, train_y, val_x, val_y,weights"
   ]
  },
  {
   "cell_type": "code",
   "execution_count": 3,
   "metadata": {},
   "outputs": [
    {
     "name": "stdout",
     "output_type": "stream",
     "text": [
      "(26117, 48, 48, 3)\n",
      "(26117,)\n",
      "[3573, 439, 3353, 7240, 3596, 3092, 4824]\n",
      "{0: 0.8631925565723475, 1: 0.9831910250028717, 2: 0.87161618868935942, 3: 0.72278592487651716, 4: 0.86231190412375081, 5: 0.8816096795190872, 6: 0.81529272121606622}\n"
     ]
    }
   ],
   "source": [
    "img_rows, img_cols = 48, 48\n",
    "batch_size = 128\n",
    "nb_classes = 7\n",
    "nb_epoch = 1200\n",
    "img_channels = 1\n",
    "\n",
    "Train_x, Train_y, Val_x, Val_y ,weights= load_data_for_vgg16()\n",
    "# Train_x=load_faces()\n",
    "\n",
    "Train_x = Train_x.astype('float32')\n",
    "Val_x = Val_x.astype('float32')\n",
    "\n",
    "Train_y = np_utils.to_categorical(Train_y, nb_classes)\n",
    "Val_y = np_utils.to_categorical(Val_y, nb_classes)"
   ]
  },
  {
   "cell_type": "code",
   "execution_count": 4,
   "metadata": {},
   "outputs": [
    {
     "name": "stdout",
     "output_type": "stream",
     "text": [
      "Building model...\n"
     ]
    },
    {
     "name": "stderr",
     "output_type": "stream",
     "text": [
      "/home/Shr147896325/anaconda3/envs/gym/lib/python3.5/site-packages/ipykernel_launcher.py:104: UserWarning: The `Merge` layer is deprecated and will be removed after 08/2017. Use instead layers from `keras.layers.merge`, e.g. `add`, `concatenate`, etc.\n"
     ]
    },
    {
     "name": "stdout",
     "output_type": "stream",
     "text": [
      "Model built\n",
      "Starting training\n",
      "Train on 25117 samples, validate on 1000 samples\n",
      "Epoch 1/50\n",
      "25088/25117 [============================>.] - ETA: 1s - loss: 1.2281 - acc: 0.4960Epoch 00000: val_loss improved from inf to 1.23749, saving model to ./vgg16_lstm_.hdf5\n",
      "25117/25117 [==============================] - 1613s - loss: 1.2280 - acc: 0.4961 - val_loss: 1.2375 - val_acc: 0.5720\n",
      "Epoch 2/50\n",
      "25088/25117 [============================>.] - ETA: 1s - loss: 0.9986 - acc: 0.5958Epoch 00001: val_loss improved from 1.23749 to 1.20934, saving model to ./vgg16_lstm_.hdf5\n",
      "25117/25117 [==============================] - 1515s - loss: 0.9987 - acc: 0.5957 - val_loss: 1.2093 - val_acc: 0.5770\n",
      "Epoch 3/50\n",
      "25088/25117 [============================>.] - ETA: 1s - loss: 0.8937 - acc: 0.6325Epoch 00002: val_loss improved from 1.20934 to 1.04637, saving model to ./vgg16_lstm_.hdf5\n",
      "25117/25117 [==============================] - 1513s - loss: 0.8936 - acc: 0.6326 - val_loss: 1.0464 - val_acc: 0.6280\n",
      "Epoch 4/50\n",
      "25088/25117 [============================>.] - ETA: 1s - loss: 0.8132 - acc: 0.6625Epoch 00003: val_loss did not improve\n",
      "25117/25117 [==============================] - 1516s - loss: 0.8132 - acc: 0.6626 - val_loss: 1.0631 - val_acc: 0.6340\n",
      "Epoch 5/50\n",
      "25088/25117 [============================>.] - ETA: 1s - loss: 0.7332 - acc: 0.6940Epoch 00004: val_loss improved from 1.04637 to 1.02534, saving model to ./vgg16_lstm_.hdf5\n",
      "25117/25117 [==============================] - 1514s - loss: 0.7334 - acc: 0.6939 - val_loss: 1.0253 - val_acc: 0.6430\n",
      "Epoch 6/50\n",
      "25088/25117 [============================>.] - ETA: 1s - loss: 0.6689 - acc: 0.7232Epoch 00005: val_loss improved from 1.02534 to 0.94566, saving model to ./vgg16_lstm_.hdf5\n",
      "25117/25117 [==============================] - 1509s - loss: 0.6690 - acc: 0.7231 - val_loss: 0.9457 - val_acc: 0.6610\n",
      "Epoch 7/50\n",
      "25088/25117 [============================>.] - ETA: 1s - loss: 0.5998 - acc: 0.7535Epoch 00006: val_loss did not improve\n",
      "25117/25117 [==============================] - 1516s - loss: 0.5999 - acc: 0.7535 - val_loss: 1.0210 - val_acc: 0.6720\n",
      "Epoch 8/50\n",
      "25088/25117 [============================>.] - ETA: 1s - loss: 0.5327 - acc: 0.7785Epoch 00007: val_loss did not improve\n",
      "25117/25117 [==============================] - 1513s - loss: 0.5325 - acc: 0.7786 - val_loss: 0.9934 - val_acc: 0.6920\n",
      "Epoch 9/50\n",
      "25088/25117 [============================>.] - ETA: 1s - loss: 0.4727 - acc: 0.8060Epoch 00008: val_loss did not improve\n",
      "25117/25117 [==============================] - 1512s - loss: 0.4730 - acc: 0.8060 - val_loss: 1.0762 - val_acc: 0.6790\n"
     ]
    },
    {
     "data": {
      "text/plain": [
       "<keras.callbacks.History at 0x7f12cc738fd0>"
      ]
     },
     "execution_count": 4,
     "metadata": {},
     "output_type": "execute_result"
    }
   ],
   "source": [
    "from keras.applications.vgg16 import VGG16\n",
    "from keras.callbacks import ModelCheckpoint\n",
    "from keras.engine import Input\n",
    "from keras.layers import GlobalAveragePooling2D, Dense, Reshape, Lambda, K, LSTM,Merge\n",
    "from keras.preprocessing.image import ImageDataGenerator\n",
    "from keras.models import Model,Sequential\n",
    "from keras.callbacks import TensorBoard\n",
    "from keras.optimizers import Adam\n",
    "\n",
    "import time\n",
    "import numpy as np\n",
    "\n",
    "np.random.seed(1337)\n",
    "\n",
    "\n",
    "class CustomImageDataGenerator(ImageDataGenerator):\n",
    "    \n",
    "def rgb_to_grayscale(input):\n",
    "    \"\"\"Average out each pixel across its 3 RGB layers resulting in a grayscale image\"\"\"\n",
    "    return K.mean(input, axis=3)\n",
    "\n",
    "\n",
    "def rgb_to_grayscale_output_shape(input_shape):\n",
    "    return input_shape[:-1]\n",
    "\n",
    "\n",
    "\n",
    "img_width = 48\n",
    "img_height = 48\n",
    "\n",
    "# CNN\n",
    "model1=Sequential()\n",
    "cnn_model = keras.applications.vgg16.VGG16(weights='imagenet', include_top=False,input_shape=(48,48,3))\n",
    "model1.add(cnn_model)\n",
    "model1.add(GlobalAveragePooling2D())\n",
    "\n",
    "\n",
    "# LSTM\n",
    "model2=Sequential()\n",
    "model2.add(Lambda(rgb_to_grayscale, rgb_to_grayscale_output_shape,input_shape=(img_width, img_height, 3)))\n",
    "model2.add(Reshape((48, 48)))\n",
    "model2.add(LSTM(100, return_sequences=True))\n",
    "model2.add(LSTM(100))\n",
    "\n",
    "final_model=Sequential()\n",
    "final_model.add(Merge([model1,model2], mode='concat'))\n",
    "final_model.add(Dense(7, activation='softmax',kernel_regularizer=keras.regularizers.l2(0.01)))\n",
    "\n",
    "print(\"Model built\")\n",
    "\n",
    "sgd=keras.optimizers.SGD(lr=0.001, decay=1e-6, momentum=0.9, nesterov=False)\n",
    "final_model.compile(loss='categorical_crossentropy',\n",
    "                optimizer=sgd,\n",
    "                metrics=['accuracy'])\n",
    "\n",
    "print(\"Starting training\")\n",
    "earlyStopping=keras.callbacks.EarlyStopping(monitor='val_loss', min_delta=0, patience=2, verbose=0, mode='auto')\n",
    "checkpointer = ModelCheckpoint(filepath=\"./vgg16_lstm_.hdf5\", verbose=1, save_best_only=True,save_weights_only=True)\n",
    "final_model.fit([Train_x,Train_x],Train_y, batch_size=32,epochs=50,validation_data=([Val_x,Val_x],Val_y),shuffle=True,verbose=1,\n",
    "               class_weight=weights,callbacks=[earlyStopping,checkpointer],)"
   ]
  },
  {
   "cell_type": "code",
   "execution_count": 5,
   "metadata": {},
   "outputs": [],
   "source": [
    "file = open('vgg16_lstm_.txt','w')  \n",
    "file.write(final_model.to_yaml())\n",
    "file.close()"
   ]
  },
  {
   "cell_type": "code",
   "execution_count": 4,
   "metadata": {},
   "outputs": [
    {
     "name": "stderr",
     "output_type": "stream",
     "text": [
      "/home/Shr147896325/anaconda3/envs/gym/lib/python3.5/site-packages/keras/engine/topology.py:1252: UserWarning: The `Merge` layer is deprecated and will be removed after 08/2017. Use instead layers from `keras.layers.merge`, e.g. `add`, `concatenate`, etc.\n",
      "  return cls(**config)\n"
     ]
    }
   ],
   "source": [
    "from keras.models import load_model\n",
    "from keras.layers import Dense, Dropout, Activation, Flatten,GaussianDropout,AlphaDropout\n",
    "from keras.layers import Conv2D, MaxPooling2D,BatchNormalization\n",
    "from keras.models import Sequential\n",
    "from keras.callbacks import TensorBoard\n",
    "from keras.callbacks import ModelCheckpoint\n",
    "from keras.models import model_from_yaml\n",
    "import numpy as np\n",
    "import keras\n",
    "from keras.utils import np_utils\n",
    "from keras.regularizers import l2\n",
    "# import cPickle\n",
    "import numpy\n",
    "import csv\n",
    "import time\n",
    "import scipy.misc\n",
    "import scipy\n",
    "from scipy import ndimage\n",
    "import numpy as np\n",
    "from keras.preprocessing.image import ImageDataGenerator\n",
    "import h5py\n",
    "file = open('models/vgg16_lstm_.txt', 'r') \n",
    "yaml_string=file.read() \n",
    "file.close()\n",
    "model = model_from_yaml(yaml_string)\n",
    "model.load_weights('models/vgg16_lstm_.hdf5')\n",
    "\n",
    "sgd=keras.optimizers.SGD(lr=0.001, decay=1e-6, momentum=0.9, nesterov=False)\n",
    "model.compile(loss='categorical_crossentropy',\n",
    "                optimizer=sgd,\n",
    "                metrics=['accuracy'])"
   ]
  },
  {
   "cell_type": "code",
   "execution_count": 32,
   "metadata": {
    "scrolled": true
   },
   "outputs": [
    {
     "data": {
      "image/png": "[encoded data removed]",
      "text/plain": [
       "<matplotlib.figure.Figure at 0x7fcd2b03c390>"
      ]
     },
     "metadata": {},
     "output_type": "display_data"
    },
    {
     "data": {
      "text/plain": [
       "<matplotlib.figure.Figure at 0x7fcd36c5db00>"
      ]
     },
     "metadata": {},
     "output_type": "display_data"
    },
    {
     "name": "stdout",
     "output_type": "stream",
     "text": [
      "1000/1000 [==============================] - 16s    \n",
      "[0.94565740871429438, 0.66100000000000003]\n"
     ]
    }
   ],
   "source": [
    "import itertools\n",
    "from matplotlib import pyplot as plt\n",
    "%matplotlib inline\n",
    "from sklearn.metrics import confusion_matrix\n",
    "def plot_confusion_matrix(cm, classes,\n",
    "                          normalize=False,\n",
    "                          title='Confusion matrix',\n",
    "                          cmap=plt.cm.Blues):\n",
    "    \"\"\"\n",
    "    This function prints and plots the confusion matrix.\n",
    "    Normalization can be applied by setting `normalize=True`.\n",
    "    \"\"\"\n",
    "    if normalize:\n",
    "        cm = cm.astype('float') / cm.sum(axis=1)[:, np.newaxis]\n",
    "#         print(\"Normalized confusion matrix\")\n",
    "#     else:\n",
    "#         print('Confusion matrix, without normalization')\n",
    "\n",
    "#     print(cm)\n",
    "\n",
    "    plt.imshow(cm, interpolation='nearest', cmap=cmap)\n",
    "    #plt.title(title)\n",
    "    plt.colorbar()\n",
    "    tick_marks = np.arange(len(classes))\n",
    "    plt.xticks(tick_marks, classes, rotation=45)\n",
    "    plt.yticks(tick_marks, classes)\n",
    "\n",
    "    fmt = '.2f' if normalize else 'd'\n",
    "    thresh = cm.max() / 2.\n",
    "    for i, j in itertools.product(range(cm.shape[0]), range(cm.shape[1])):\n",
    "        plt.text(j, i, format(cm[i, j], fmt),\n",
    "                 horizontalalignment=\"center\",\n",
    "                 color=\"white\" if cm[i, j] > thresh else \"black\")\n",
    "\n",
    "    plt.tight_layout()\n",
    "    plt.ylabel('True label')\n",
    "    plt.xlabel('Predicted label')\n",
    "    \n",
    "cnf_matrix = confusion_matrix(np.argmax(Val_y,axis=1), np.argmax(model.predict([Val_x,Val_x]),axis=1),labels=[0,1,2,3,4,5,6])\n",
    "np.set_printoptions(precision=2)\n",
    "plt.figure()\n",
    "plot_confusion_matrix(cnf_matrix, classes=['Angry', 'Disgust', 'Fear', 'Happy','Sad','Surprise','Neutral'],\n",
    "                        title='Confusion matrix, without normalization')\n",
    "\n",
    "# Plot normalized confusion matrix\n",
    "plt.figure()\n",
    "# plot_confusion_matrix(cnf_matrix, classes=['Angry', 'Disgust', 'Fear', 'Happy','Sad','Surprise','Neutral'], normalize=True,\n",
    "#                       title='Normalized confusion matrix')\n",
    "# plt.savefig('../../../mnt/c/Users/roohis1/Downloads/New folder (2)/results/cm.png',bbox_inches = 'tight')\n",
    "plt.show()\n",
    "print(model.evaluate([Val_x,Val_x], Val_y))"
   ]
  },
  {
   "cell_type": "code",
   "execution_count": null,
   "metadata": {},
   "outputs": [],
   "source": []
  }
 ],
 "metadata": {
  "kernelspec": {
   "display_name": "Python 3",
   "language": "python",
   "name": "python3"
  },
  "language_info": {
   "codemirror_mode": {
    "name": "ipython",
    "version": 3
   },
   "file_extension": ".py",
   "mimetype": "text/x-python",
   "name": "python",
   "nbconvert_exporter": "python",
   "pygments_lexer": "ipython3",
   "version": "3.5.4"
  }
 },
 "nbformat": 4,
 "nbformat_minor": 2
}
